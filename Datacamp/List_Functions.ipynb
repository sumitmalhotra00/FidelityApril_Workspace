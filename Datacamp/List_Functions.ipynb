{
 "cells": [
  {
   "cell_type": "code",
   "execution_count": 1,
   "id": "2d37977d",
   "metadata": {},
   "outputs": [
    {
     "name": "stdout",
     "output_type": "stream",
     "text": [
      "[12, 10.345, 4.342, 'sumit', 'Holiday', -18.39, -0.092]\n",
      "[12, 10.345, 4.342, -18.39, -0.092]\n",
      "12 -18.39\n"
     ]
    }
   ],
   "source": [
    "# functions \n",
    "# type, round\n",
    "\n",
    "mylist = [12, 10.345, 4.342, \"sumit\", \"Holiday\",-18.39, -0.092]\n",
    "mylistInt= [12, 10.345, 4.342, -18.39, -0.092]\n",
    "print(mylist)\n",
    "print(mylistInt)\n",
    "maxi = max(mylistInt)\n",
    "mini = min(mylistInt)\n",
    "print(maxi,\n",
    "      mini)\n",
    "\n",
    "# how to print in new line??\n"
   ]
  },
  {
   "cell_type": "code",
   "execution_count": 2,
   "id": "dde4f9ae",
   "metadata": {},
   "outputs": [
    {
     "name": "stdout",
     "output_type": "stream",
     "text": [
      "-18.39\n",
      "5\n",
      "7\n",
      "5\n"
     ]
    }
   ],
   "source": [
    "round(mylistInt[4],1)\n",
    "mylist[3].upper()\n",
    "try1= str(mylist[5])\n",
    "print(try1)\n",
    "\n",
    "print(len(mylist[3]))\n",
    "print(len(mylist))\n",
    "print(len(mylistInt))\n"
   ]
  },
  {
   "cell_type": "code",
   "execution_count": 3,
   "id": "8c1ec395",
   "metadata": {},
   "outputs": [
    {
     "name": "stdout",
     "output_type": "stream",
     "text": [
      "Help on built-in function max in module builtins:\n",
      "\n",
      "max(...)\n",
      "    max(iterable, *[, default=obj, key=func]) -> value\n",
      "    max(arg1, arg2, *args, *[, key=func]) -> value\n",
      "    \n",
      "    With a single iterable argument, return its biggest item. The\n",
      "    default keyword-only argument specifies an object to return if\n",
      "    the provided iterable is empty.\n",
      "    With two or more arguments, return the largest argument.\n",
      "\n"
     ]
    }
   ],
   "source": [
    "help(max)"
   ]
  },
  {
   "cell_type": "code",
   "execution_count": 4,
   "id": "b2995e87",
   "metadata": {},
   "outputs": [
    {
     "name": "stdout",
     "output_type": "stream",
     "text": [
      "Help on built-in function pow in module builtins:\n",
      "\n",
      "pow(base, exp, mod=None)\n",
      "    Equivalent to base**exp with 2 arguments or base**exp % mod with 3 arguments\n",
      "    \n",
      "    Some types, such as ints, are able to use a more efficient algorithm when\n",
      "    invoked using the three argument form.\n",
      "\n"
     ]
    }
   ],
   "source": [
    "help(pow)"
   ]
  },
  {
   "cell_type": "code",
   "execution_count": 10,
   "id": "4a152e15",
   "metadata": {},
   "outputs": [
    {
     "data": {
      "text/plain": [
       "-3.7029999999999994"
      ]
     },
     "execution_count": 10,
     "metadata": {},
     "output_type": "execute_result"
    }
   ],
   "source": [
    "pow(2,3,5)\n",
    "# 2 to the power of 3 and then feed the output to modulus: 8 mod 5 =3\n",
    "sum(mylistInt[1:4])"
   ]
  },
  {
   "cell_type": "code",
   "execution_count": 16,
   "id": "87ce1f8e",
   "metadata": {},
   "outputs": [
    {
     "name": "stdout",
     "output_type": "stream",
     "text": [
      "55\n",
      "5.5\n"
     ]
    }
   ],
   "source": [
    "l = [1,2,3,4,5,6,7,8,9,10]\n",
    "sum_l = sum(l)\n",
    "print(sum_l)\n",
    "mean_l= print(sum_l/float(len(l)))\n"
   ]
  },
  {
   "cell_type": "code",
   "execution_count": 18,
   "id": "b2a1590a",
   "metadata": {},
   "outputs": [
    {
     "name": "stdout",
     "output_type": "stream",
     "text": [
      "Help on built-in function sorted in module builtins:\n",
      "\n",
      "sorted(iterable, /, *, key=None, reverse=False)\n",
      "    Return a new list containing all items from the iterable in ascending order.\n",
      "    \n",
      "    A custom key function can be supplied to customize the sort order, and the\n",
      "    reverse flag can be set to request the result in descending order.\n",
      "\n"
     ]
    }
   ],
   "source": [
    "# Sorting functions\n",
    "\n",
    "help(sorted)"
   ]
  },
  {
   "cell_type": "code",
   "execution_count": 19,
   "id": "4a644789",
   "metadata": {},
   "outputs": [
    {
     "data": {
      "text/plain": [
       "[-56, -5, -1, 3, 8, 12, 13, 23, 100]"
      ]
     },
     "execution_count": 19,
     "metadata": {},
     "output_type": "execute_result"
    }
   ],
   "source": [
    "unsorted = [12,3,23,13,-1,-56,100,8,-5]\n",
    "sorted(unsorted)"
   ]
  },
  {
   "cell_type": "code",
   "execution_count": 20,
   "id": "f75b5b70",
   "metadata": {},
   "outputs": [
    {
     "data": {
      "text/plain": [
       "[100, 23, 13, 12, 8, 3, -1, -5, -56]"
      ]
     },
     "execution_count": 20,
     "metadata": {},
     "output_type": "execute_result"
    }
   ],
   "source": [
    "sorted(unsorted, reverse=True)"
   ]
  },
  {
   "cell_type": "code",
   "execution_count": 22,
   "id": "9340667a",
   "metadata": {},
   "outputs": [
    {
     "name": "stdout",
     "output_type": "stream",
     "text": [
      "[1, 2, 3, 4, 5, 6]\n"
     ]
    }
   ],
   "source": [
    "list1 = [1,2,3]\n",
    "list2 =[4,5,6]\n",
    "list3 = list1+list2\n",
    "print(list3)"
   ]
  },
  {
   "cell_type": "code",
   "execution_count": null,
   "id": "a5f94428",
   "metadata": {},
   "outputs": [],
   "source": []
  }
 ],
 "metadata": {
  "kernelspec": {
   "display_name": "Python 3 (ipykernel)",
   "language": "python",
   "name": "python3"
  },
  "language_info": {
   "codemirror_mode": {
    "name": "ipython",
    "version": 3
   },
   "file_extension": ".py",
   "mimetype": "text/x-python",
   "name": "python",
   "nbconvert_exporter": "python",
   "pygments_lexer": "ipython3",
   "version": "3.9.7"
  }
 },
 "nbformat": 4,
 "nbformat_minor": 5
}
