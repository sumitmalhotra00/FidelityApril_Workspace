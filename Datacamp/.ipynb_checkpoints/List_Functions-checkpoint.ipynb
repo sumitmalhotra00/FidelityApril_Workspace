{
 "cells": [
  {
   "cell_type": "code",
   "execution_count": null,
   "id": "2d37977d",
   "metadata": {},
   "outputs": [],
   "source": [
    "# functions \n",
    "# type, round\n",
    "\n",
    "mylist = [12, 10.345, 4.342, \"sumit\", \"Holiday\",-18.39, -0.092]\n",
    "mylistInt= [12, 10.345, 4.342, -18.39, -0.092]\n",
    "print(mylist)\n",
    "print(mylistInt)\n",
    "maxi = max(mylistInt)\n",
    "mini = min(mylistInt)\n",
    "print(maxi,\n",
    "      mini)\n",
    "\n",
    "# how to print in new line??\n"
   ]
  },
  {
   "cell_type": "code",
   "execution_count": null,
   "id": "dde4f9ae",
   "metadata": {},
   "outputs": [],
   "source": [
    "round(mylistInt[4],1)\n",
    "mylist[3].upper()\n",
    "try1= str(mylist[5])\n",
    "print(try1)\n",
    "\n",
    "print(len(mylist[3]))\n",
    "print(len(mylist))\n",
    "print(len(mylistInt))\n"
   ]
  }
 ],
 "metadata": {
  "kernelspec": {
   "display_name": "Python 3 (ipykernel)",
   "language": "python",
   "name": "python3"
  },
  "language_info": {
   "codemirror_mode": {
    "name": "ipython",
    "version": 3
   },
   "file_extension": ".py",
   "mimetype": "text/x-python",
   "name": "python",
   "nbconvert_exporter": "python",
   "pygments_lexer": "ipython3",
   "version": "3.9.7"
  }
 },
 "nbformat": 4,
 "nbformat_minor": 5
}
