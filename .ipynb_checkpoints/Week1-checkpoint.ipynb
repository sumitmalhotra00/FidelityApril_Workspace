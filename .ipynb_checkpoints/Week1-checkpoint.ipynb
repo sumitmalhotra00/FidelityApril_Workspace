{
 "cells": [
  {
   "cell_type": "code",
   "execution_count": 8,
   "id": "7089660a",
   "metadata": {},
   "outputs": [
    {
     "data": {
      "text/plain": [
       "12"
      ]
     },
     "execution_count": 8,
     "metadata": {},
     "output_type": "execute_result"
    }
   ],
   "source": [
    "qb=12\n",
    "qb"
   ]
  },
  {
   "cell_type": "code",
   "execution_count": 10,
   "id": "1ddbf2f9",
   "metadata": {},
   "outputs": [
    {
     "data": {
      "text/plain": [
       "244"
      ]
     },
     "execution_count": 10,
     "metadata": {},
     "output_type": "execute_result"
    }
   ],
   "source": [
    "asb12=244\n",
    "asb12"
   ]
  },
  {
   "cell_type": "code",
   "execution_count": 14,
   "id": "d007eb57",
   "metadata": {},
   "outputs": [
    {
     "name": "stdout",
     "output_type": "stream",
     "text": [
      "20\n",
      "50\n",
      "2050\n"
     ]
    }
   ],
   "source": [
    "aa=\"20\"\n",
    "bb=\"50\"\n",
    "print(aa)\n",
    "print(bb)\n",
    "print(aa+bb)"
   ]
  },
  {
   "cell_type": "code",
   "execution_count": null,
   "id": "cc710a9f",
   "metadata": {},
   "outputs": [],
   "source": [
    "home work...\n",
    "+\n",
    "-\n",
    "/\n",
    "*\n",
    "//\n",
    "**"
   ]
  }
 ],
 "metadata": {
  "kernelspec": {
   "display_name": "Python 3 (ipykernel)",
   "language": "python",
   "name": "python3"
  },
  "language_info": {
   "codemirror_mode": {
    "name": "ipython",
    "version": 3
   },
   "file_extension": ".py",
   "mimetype": "text/x-python",
   "name": "python",
   "nbconvert_exporter": "python",
   "pygments_lexer": "ipython3",
   "version": "3.9.7"
  }
 },
 "nbformat": 4,
 "nbformat_minor": 5
}
