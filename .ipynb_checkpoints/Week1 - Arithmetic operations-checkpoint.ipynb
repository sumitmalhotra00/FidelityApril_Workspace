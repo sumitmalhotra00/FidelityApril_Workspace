{
 "cells": [
  {
   "cell_type": "code",
   "execution_count": 22,
   "id": "8000159a",
   "metadata": {},
   "outputs": [
    {
     "name": "stdout",
     "output_type": "stream",
     "text": [
      "10\n",
      "The sum of 7 and 3 is: 10\n",
      "4\n",
      "The difference of 7 and 3 is: 4\n",
      "2.3333333333333335\n",
      "The division of 7 and 3 is: 2.3333333333333335\n",
      "21\n",
      "The mulitplication of 7 and 3 is: 21\n",
      "2\n",
      "The floor division of 7 and 3 is: 2\n",
      "1\n",
      "The modulus of 7 and 3 is: 1\n",
      "343\n",
      "The exponent of 7 and 3 is: 343\n"
     ]
    }
   ],
   "source": [
    "## Arithmatic operations\n",
    "## Sum operation using variables \n",
    "\n",
    "No1 = 7\n",
    "No2 = 3\n",
    "\n",
    "sum_test = No1 + No2\n",
    "print(sum_test)\n",
    "print(\"The sum of \" + str(No1) + \" and \" + str(No2) + \" is: \" + str(sum_test))\n",
    "\n",
    "## substraction operation using variable\n",
    "\n",
    "diff_test = No1 - No2\n",
    "print(diff_test)\n",
    "print(\"The difference of \" + str(No1) + \" and \" + str(No2) + \" is: \" + str(diff_test))\n",
    "\n",
    "## Division operation using variables\n",
    "\n",
    "div_test = No1 / No2\n",
    "print(div_test)\n",
    "print(\"The division of \" + str(No1) + \" and \" + str(No2) + \" is: \" + str(div_test))\n",
    "\n",
    "## Mulitplication operation using variables\n",
    "\n",
    "mul_test = No1 * No2\n",
    "print(mul_test)\n",
    "print(\"The mulitplication of \" + str(No1) + \" and \" + str(No2) + \" is: \" + str(mul_test))\n",
    "\n",
    "## Floor division operation \n",
    "\n",
    "flr_test = No1 // No2\n",
    "print(flr_test)\n",
    "print(\"The floor division of \" + str(No1) + \" and \" + str(No2) + \" is: \" + str(flr_test))\n",
    "\n",
    "## Modulus operation\n",
    "\n",
    "mod_test = No1 % No2\n",
    "print(mod_test)\n",
    "print(\"The modulus of \" + str(No1) + \" and \" + str(No2) + \" is: \" + str(mod_test))\n",
    "\n",
    "## Exponential operation\n",
    "\n",
    "exp_test = No1 ** No2\n",
    "print(exp_test)\n",
    "print(\"The exponent of \" + str(No1) + \" and \" + str(No2) + \" is: \" + str(exp_test))"
   ]
  },
  {
   "cell_type": "code",
   "execution_count": null,
   "id": "37022924",
   "metadata": {},
   "outputs": [],
   "source": []
  }
 ],
 "metadata": {
  "kernelspec": {
   "display_name": "Python 3 (ipykernel)",
   "language": "python",
   "name": "python3"
  },
  "language_info": {
   "codemirror_mode": {
    "name": "ipython",
    "version": 3
   },
   "file_extension": ".py",
   "mimetype": "text/x-python",
   "name": "python",
   "nbconvert_exporter": "python",
   "pygments_lexer": "ipython3",
   "version": "3.9.7"
  }
 },
 "nbformat": 4,
 "nbformat_minor": 5
}
